{
 "cells": [
  {
   "cell_type": "markdown",
   "metadata": {},
   "source": [
    "<img src=\"https://www.thestatesman.com/wp-content/uploads/2019/01/Green-chillies.jpg\" width=\"200\" align=\"center\">"
   ]
  },
  {
   "cell_type": "markdown",
   "metadata": {},
   "source": [
    "<h3><center>Alexandra Almeida</center></h3> \n",
    "<h1><center>Project \"Green Chilly Prices in India\"</center></h1>\n",
    "<img src=\"https://upskill.pt/wp-content/uploads/2020/03/cropped-APDC_UPSKILLS_Logo-300x83.png\" width=\"200\" align=\"center\">"
   ]
  },
  {
   "cell_type": "markdown",
   "metadata": {},
   "source": [
    "#### The present project was carried out under the Machine Learning module as part of the UpsKill program @ ISCTE - Lisbon University Institute."
   ]
  },
  {
   "cell_type": "markdown",
   "metadata": {},
   "source": [
    "- I have select a public dataset which contains a time list of chilli peppers prices in India over 2048 days. The goal is to forecast prices for next 30 days.\n",
    "\n",
    "- The initial dataset had almost 900k rows. Every time I restarted the kernel and ran all, the data upload took a long time, so I had to reduce the data file.\n",
    "\n",
    "- Long Short-Term Memory (LSTM) and Gated Recurrent Units (GRU) were applied to predict the prices. I have also attempted to use the Profet library but it the instalation process did not end."
   ]
  },
  {
   "cell_type": "code",
   "execution_count": 1,
   "metadata": {},
   "outputs": [],
   "source": [
    "# import libraries\n",
    "import pandas as pd\n",
    "import matplotlib.pyplot as plt\n",
    "import numpy as np "
   ]
  },
  {
   "cell_type": "code",
   "execution_count": 2,
   "metadata": {},
   "outputs": [
    {
     "data": {
      "text/html": [
       "<div>\n",
       "<style scoped>\n",
       "    .dataframe tbody tr th:only-of-type {\n",
       "        vertical-align: middle;\n",
       "    }\n",
       "\n",
       "    .dataframe tbody tr th {\n",
       "        vertical-align: top;\n",
       "    }\n",
       "\n",
       "    .dataframe thead th {\n",
       "        text-align: right;\n",
       "    }\n",
       "</style>\n",
       "<table border=\"1\" class=\"dataframe\">\n",
       "  <thead>\n",
       "    <tr style=\"text-align: right;\">\n",
       "      <th></th>\n",
       "      <th>datesk</th>\n",
       "      <th>Item Name</th>\n",
       "      <th>Date</th>\n",
       "      <th>price</th>\n",
       "    </tr>\n",
       "  </thead>\n",
       "  <tbody>\n",
       "    <tr>\n",
       "      <th>0</th>\n",
       "      <td>20110101</td>\n",
       "      <td>Chillies Green</td>\n",
       "      <td>01/01/2011</td>\n",
       "      <td>NaN</td>\n",
       "    </tr>\n",
       "    <tr>\n",
       "      <th>1</th>\n",
       "      <td>20110101</td>\n",
       "      <td>Chillies Bajji</td>\n",
       "      <td>01/01/2011</td>\n",
       "      <td>NaN</td>\n",
       "    </tr>\n",
       "    <tr>\n",
       "      <th>2</th>\n",
       "      <td>20110101</td>\n",
       "      <td>Chillies Cleaned</td>\n",
       "      <td>01/01/2011</td>\n",
       "      <td>NaN</td>\n",
       "    </tr>\n",
       "    <tr>\n",
       "      <th>3</th>\n",
       "      <td>20110101</td>\n",
       "      <td>Chillies small (C.B.P)</td>\n",
       "      <td>01/01/2011</td>\n",
       "      <td>NaN</td>\n",
       "    </tr>\n",
       "    <tr>\n",
       "      <th>4</th>\n",
       "      <td>20110101</td>\n",
       "      <td>Chillies Bajji yagani</td>\n",
       "      <td>01/01/2011</td>\n",
       "      <td>NaN</td>\n",
       "    </tr>\n",
       "  </tbody>\n",
       "</table>\n",
       "</div>"
      ],
      "text/plain": [
       "     datesk               Item Name        Date  price\n",
       "0  20110101          Chillies Green  01/01/2011    NaN\n",
       "1  20110101          Chillies Bajji  01/01/2011    NaN\n",
       "2  20110101        Chillies Cleaned  01/01/2011    NaN\n",
       "3  20110101  Chillies small (C.B.P)  01/01/2011    NaN\n",
       "4  20110101   Chillies Bajji yagani  01/01/2011    NaN"
      ]
     },
     "execution_count": 2,
     "metadata": {},
     "output_type": "execute_result"
    }
   ],
   "source": [
    "# import excel file and convert into pandas\n",
    "df = pd.read_csv('Chillies Prices in India.csv', delimiter=';')\n",
    "df.head()"
   ]
  },
  {
   "cell_type": "code",
   "execution_count": 3,
   "metadata": {},
   "outputs": [
    {
     "data": {
      "text/plain": [
       "(13065, 4)"
      ]
     },
     "execution_count": 3,
     "metadata": {},
     "output_type": "execute_result"
    }
   ],
   "source": [
    "# check dataframe'shape\n",
    "df.shape"
   ]
  },
  {
   "cell_type": "code",
   "execution_count": 4,
   "metadata": {},
   "outputs": [
    {
     "data": {
      "text/plain": [
       "(2613, 4)"
      ]
     },
     "execution_count": 4,
     "metadata": {},
     "output_type": "execute_result"
    }
   ],
   "source": [
    "# keep green chillies data only \n",
    "df = df[(df['Item Name'] == 'Chillies Green')]\n",
    "df.shape"
   ]
  },
  {
   "cell_type": "code",
   "execution_count": 5,
   "metadata": {},
   "outputs": [],
   "source": [
    "#drop missing values\n",
    "df.dropna(inplace=True)"
   ]
  },
  {
   "cell_type": "code",
   "execution_count": 6,
   "metadata": {},
   "outputs": [
    {
     "data": {
      "text/html": [
       "<div>\n",
       "<style scoped>\n",
       "    .dataframe tbody tr th:only-of-type {\n",
       "        vertical-align: middle;\n",
       "    }\n",
       "\n",
       "    .dataframe tbody tr th {\n",
       "        vertical-align: top;\n",
       "    }\n",
       "\n",
       "    .dataframe thead th {\n",
       "        text-align: right;\n",
       "    }\n",
       "</style>\n",
       "<table border=\"1\" class=\"dataframe\">\n",
       "  <thead>\n",
       "    <tr style=\"text-align: right;\">\n",
       "      <th></th>\n",
       "      <th>datesk</th>\n",
       "      <th>Item Name</th>\n",
       "      <th>Date</th>\n",
       "      <th>price</th>\n",
       "    </tr>\n",
       "  </thead>\n",
       "  <tbody>\n",
       "    <tr>\n",
       "      <th>339</th>\n",
       "      <td>20110309</td>\n",
       "      <td>Chillies Green</td>\n",
       "      <td>2011-03-09</td>\n",
       "      <td>30.0</td>\n",
       "    </tr>\n",
       "    <tr>\n",
       "      <th>340</th>\n",
       "      <td>20110310</td>\n",
       "      <td>Chillies Green</td>\n",
       "      <td>2011-03-10</td>\n",
       "      <td>30.0</td>\n",
       "    </tr>\n",
       "    <tr>\n",
       "      <th>360</th>\n",
       "      <td>20110314</td>\n",
       "      <td>Chillies Green</td>\n",
       "      <td>2011-03-14</td>\n",
       "      <td>30.0</td>\n",
       "    </tr>\n",
       "    <tr>\n",
       "      <th>370</th>\n",
       "      <td>20110316</td>\n",
       "      <td>Chillies Green</td>\n",
       "      <td>2011-03-16</td>\n",
       "      <td>30.0</td>\n",
       "    </tr>\n",
       "    <tr>\n",
       "      <th>378</th>\n",
       "      <td>20110317</td>\n",
       "      <td>Chillies Green</td>\n",
       "      <td>2011-03-17</td>\n",
       "      <td>30.0</td>\n",
       "    </tr>\n",
       "  </tbody>\n",
       "</table>\n",
       "</div>"
      ],
      "text/plain": [
       "       datesk       Item Name       Date  price\n",
       "339  20110309  Chillies Green 2011-03-09   30.0\n",
       "340  20110310  Chillies Green 2011-03-10   30.0\n",
       "360  20110314  Chillies Green 2011-03-14   30.0\n",
       "370  20110316  Chillies Green 2011-03-16   30.0\n",
       "378  20110317  Chillies Green 2011-03-17   30.0"
      ]
     },
     "execution_count": 6,
     "metadata": {},
     "output_type": "execute_result"
    }
   ],
   "source": [
    "#convert the 'Date' column into a datetime format so that it can interpreted as a date\n",
    "df['Date'] = pd.to_datetime(df['datesk'], format=\"%Y%m%d\")\n",
    "df.head()"
   ]
  },
  {
   "cell_type": "code",
   "execution_count": 7,
   "metadata": {},
   "outputs": [],
   "source": [
    "# remove column 'datesk' and 'Item Name'\n",
    "df.drop(columns = ['datesk','Item Name'], inplace=True)"
   ]
  },
  {
   "cell_type": "code",
   "execution_count": 8,
   "metadata": {},
   "outputs": [
    {
     "data": {
      "text/plain": [
       "(2048, 2)"
      ]
     },
     "execution_count": 8,
     "metadata": {},
     "output_type": "execute_result"
    }
   ],
   "source": [
    "# remove rows where price is 0\n",
    "df = df[~(df['price']== 0)]\n",
    "df.reset_index(drop=True, inplace=True)\n",
    "df.shape"
   ]
  },
  {
   "cell_type": "code",
   "execution_count": 9,
   "metadata": {},
   "outputs": [
    {
     "data": {
      "text/html": [
       "<div>\n",
       "<style scoped>\n",
       "    .dataframe tbody tr th:only-of-type {\n",
       "        vertical-align: middle;\n",
       "    }\n",
       "\n",
       "    .dataframe tbody tr th {\n",
       "        vertical-align: top;\n",
       "    }\n",
       "\n",
       "    .dataframe thead th {\n",
       "        text-align: right;\n",
       "    }\n",
       "</style>\n",
       "<table border=\"1\" class=\"dataframe\">\n",
       "  <thead>\n",
       "    <tr style=\"text-align: right;\">\n",
       "      <th></th>\n",
       "      <th>price</th>\n",
       "    </tr>\n",
       "  </thead>\n",
       "  <tbody>\n",
       "    <tr>\n",
       "      <th>count</th>\n",
       "      <td>2048.000000</td>\n",
       "    </tr>\n",
       "    <tr>\n",
       "      <th>mean</th>\n",
       "      <td>35.721191</td>\n",
       "    </tr>\n",
       "    <tr>\n",
       "      <th>std</th>\n",
       "      <td>21.060151</td>\n",
       "    </tr>\n",
       "    <tr>\n",
       "      <th>min</th>\n",
       "      <td>16.000000</td>\n",
       "    </tr>\n",
       "    <tr>\n",
       "      <th>25%</th>\n",
       "      <td>25.000000</td>\n",
       "    </tr>\n",
       "    <tr>\n",
       "      <th>50%</th>\n",
       "      <td>30.000000</td>\n",
       "    </tr>\n",
       "    <tr>\n",
       "      <th>75%</th>\n",
       "      <td>40.000000</td>\n",
       "    </tr>\n",
       "    <tr>\n",
       "      <th>max</th>\n",
       "      <td>598.000000</td>\n",
       "    </tr>\n",
       "  </tbody>\n",
       "</table>\n",
       "</div>"
      ],
      "text/plain": [
       "             price\n",
       "count  2048.000000\n",
       "mean     35.721191\n",
       "std      21.060151\n",
       "min      16.000000\n",
       "25%      25.000000\n",
       "50%      30.000000\n",
       "75%      40.000000\n",
       "max     598.000000"
      ]
     },
     "execution_count": 9,
     "metadata": {},
     "output_type": "execute_result"
    }
   ],
   "source": [
    "# get the general descriptive statistics from data\n",
    "df.describe()"
   ]
  },
  {
   "cell_type": "markdown",
   "metadata": {},
   "source": [
    "After cleaning all columns and rows not needed, we can plot the data and visualize the prices evolution. We can see 2 data points where prices were much higher than usual."
   ]
  },
  {
   "cell_type": "code",
   "execution_count": 10,
   "metadata": {},
   "outputs": [
    {
     "data": {
      "image/png": "[encoded data removed]",
      "text/plain": [
       "<Figure size 1440x504 with 1 Axes>"
      ]
     },
     "metadata": {
      "needs_background": "light"
     },
     "output_type": "display_data"
    }
   ],
   "source": [
    "#sort data from older to newer prices\n",
    "df.sort_values(by=['Date'], ascending = True, inplace = True)\n",
    "\n",
    "# creating a pot in order to visualize the price evolution.\n",
    "plt.figure(figsize=(20,7))\n",
    "plt.plot(df['Date'].values, df['price'].values, label = ' Price', color = 'red')\n",
    "# plt.xticks(np.arange(100,df.shape[0],100))\n",
    "plt.xlabel('Date')\n",
    "plt.ylabel('Price (€)')\n",
    "plt.legend()\n",
    "plt.show()"
   ]
  },
  {
   "cell_type": "code",
   "execution_count": 11,
   "metadata": {},
   "outputs": [
    {
     "data": {
      "text/html": [
       "<div>\n",
       "<style scoped>\n",
       "    .dataframe tbody tr th:only-of-type {\n",
       "        vertical-align: middle;\n",
       "    }\n",
       "\n",
       "    .dataframe tbody tr th {\n",
       "        vertical-align: top;\n",
       "    }\n",
       "\n",
       "    .dataframe thead th {\n",
       "        text-align: right;\n",
       "    }\n",
       "</style>\n",
       "<table border=\"1\" class=\"dataframe\">\n",
       "  <thead>\n",
       "    <tr style=\"text-align: right;\">\n",
       "      <th></th>\n",
       "      <th>Date</th>\n",
       "      <th>price</th>\n",
       "    </tr>\n",
       "  </thead>\n",
       "  <tbody>\n",
       "    <tr>\n",
       "      <th>1592</th>\n",
       "      <td>2016-07-15</td>\n",
       "      <td>598.0</td>\n",
       "    </tr>\n",
       "    <tr>\n",
       "      <th>1574</th>\n",
       "      <td>2016-06-22</td>\n",
       "      <td>441.0</td>\n",
       "    </tr>\n",
       "    <tr>\n",
       "      <th>1544</th>\n",
       "      <td>2016-05-18</td>\n",
       "      <td>120.0</td>\n",
       "    </tr>\n",
       "    <tr>\n",
       "      <th>1545</th>\n",
       "      <td>2016-05-19</td>\n",
       "      <td>115.0</td>\n",
       "    </tr>\n",
       "    <tr>\n",
       "      <th>1551</th>\n",
       "      <td>2016-05-26</td>\n",
       "      <td>108.0</td>\n",
       "    </tr>\n",
       "    <tr>\n",
       "      <th>...</th>\n",
       "      <td>...</td>\n",
       "      <td>...</td>\n",
       "    </tr>\n",
       "    <tr>\n",
       "      <th>1649</th>\n",
       "      <td>2016-10-07</td>\n",
       "      <td>16.0</td>\n",
       "    </tr>\n",
       "    <tr>\n",
       "      <th>1648</th>\n",
       "      <td>2016-10-06</td>\n",
       "      <td>16.0</td>\n",
       "    </tr>\n",
       "    <tr>\n",
       "      <th>1638</th>\n",
       "      <td>2016-09-22</td>\n",
       "      <td>16.0</td>\n",
       "    </tr>\n",
       "    <tr>\n",
       "      <th>1639</th>\n",
       "      <td>2016-09-24</td>\n",
       "      <td>16.0</td>\n",
       "    </tr>\n",
       "    <tr>\n",
       "      <th>480</th>\n",
       "      <td>2012-11-14</td>\n",
       "      <td>16.0</td>\n",
       "    </tr>\n",
       "  </tbody>\n",
       "</table>\n",
       "<p>2048 rows × 2 columns</p>\n",
       "</div>"
      ],
      "text/plain": [
       "           Date  price\n",
       "1592 2016-07-15  598.0\n",
       "1574 2016-06-22  441.0\n",
       "1544 2016-05-18  120.0\n",
       "1545 2016-05-19  115.0\n",
       "1551 2016-05-26  108.0\n",
       "...         ...    ...\n",
       "1649 2016-10-07   16.0\n",
       "1648 2016-10-06   16.0\n",
       "1638 2016-09-22   16.0\n",
       "1639 2016-09-24   16.0\n",
       "480  2012-11-14   16.0\n",
       "\n",
       "[2048 rows x 2 columns]"
      ]
     },
     "execution_count": 11,
     "metadata": {},
     "output_type": "execute_result"
    }
   ],
   "source": [
    "# sort the dataframe by descending price in order to find the 2 outlier prices\n",
    "df.sort_values(by=['price'], ascending=False)"
   ]
  },
  {
   "cell_type": "code",
   "execution_count": 12,
   "metadata": {},
   "outputs": [],
   "source": [
    "#remove prices values 598.0 and 441.0\n",
    "outliers = df.index[[1574,1592]]\n",
    "df.drop(outliers, inplace=True)\n"
   ]
  },
  {
   "cell_type": "code",
   "execution_count": 13,
   "metadata": {},
   "outputs": [
    {
     "data": {
      "image/png": "[encoded data removed]",
      "text/plain": [
       "<Figure size 1440x504 with 1 Axes>"
      ]
     },
     "metadata": {
      "needs_background": "light"
     },
     "output_type": "display_data"
    }
   ],
   "source": [
    "#Create a new plot without ouliers\n",
    "plt.figure(figsize=(20,7))\n",
    "plt.plot(df['Date'].values, df['price'].values, label = ' Price', color = 'red')\n",
    "# plt.xticks(np.arange(100,df.shape[0],200))\n",
    "plt.xlabel('Date')\n",
    "plt.ylabel('Price (€)')\n",
    "plt.legend()\n",
    "plt.show()"
   ]
  },
  {
   "cell_type": "markdown",
   "metadata": {},
   "source": [
    "## LSTM  (Long Short-Term Memory)"
   ]
  },
  {
   "cell_type": "code",
   "execution_count": 14,
   "metadata": {},
   "outputs": [],
   "source": [
    "# split the ordered dataset into train and test datasets\n",
    "# 80% of the number of records for training\n",
    "num_records = round(len(df)*0.8)\n",
    "train = df.iloc[:num_records, 1:2].values\n",
    "test = df.iloc[num_records:, 1:2].values"
   ]
  },
  {
   "cell_type": "markdown",
   "metadata": {},
   "source": [
    "Scaling features using normalization. "
   ]
  },
  {
   "cell_type": "code",
   "execution_count": 15,
   "metadata": {},
   "outputs": [],
   "source": [
    "# Normalize the data to avoid gradient vanishing using MinMax method \n",
    "from sklearn.preprocessing import MinMaxScaler\n",
    "sc = MinMaxScaler()\n",
    "train_scaled = sc.fit_transform(train)"
   ]
  },
  {
   "cell_type": "markdown",
   "metadata": {},
   "source": [
    "create a feature array, window size = 30"
   ]
  },
  {
   "cell_type": "code",
   "execution_count": 16,
   "metadata": {},
   "outputs": [],
   "source": [
    "X_train = []\n",
    "\n",
    "#Price on next day\n",
    "y_train = []\n",
    "\n",
    "window = 30\n",
    "\n",
    "for i in range(window, num_records):\n",
    "    X_train_ = np.reshape(train_scaled[i-window:i, 0], (window, 1))\n",
    "    X_train.append(X_train_)\n",
    "    y_train.append(train_scaled[i, 0])\n",
    "    \n",
    "X_train = np.stack(X_train)\n",
    "y_train = np.stack(y_train)"
   ]
  },
  {
   "cell_type": "markdown",
   "metadata": {},
   "source": [
    "A Sequential model is appropriate for a plain stack of layers where each layer has exactly one input tensor and one output tensor. Training the model"
   ]
  },
  {
   "cell_type": "code",
   "execution_count": 17,
   "metadata": {},
   "outputs": [
    {
     "name": "stdout",
     "output_type": "stream",
     "text": [
      "Model: \"sequential\"\n",
      "_________________________________________________________________\n",
      "Layer (type)                 Output Shape              Param #   \n",
      "=================================================================\n",
      "lstm (LSTM)                  (None, 30, 50)            10400     \n",
      "_________________________________________________________________\n",
      "dropout (Dropout)            (None, 30, 50)            0         \n",
      "_________________________________________________________________\n",
      "lstm_1 (LSTM)                (None, 30, 50)            20200     \n",
      "_________________________________________________________________\n",
      "dropout_1 (Dropout)          (None, 30, 50)            0         \n",
      "_________________________________________________________________\n",
      "lstm_2 (LSTM)                (None, 30, 50)            20200     \n",
      "_________________________________________________________________\n",
      "dropout_2 (Dropout)          (None, 30, 50)            0         \n",
      "_________________________________________________________________\n",
      "lstm_3 (LSTM)                (None, 50)                20200     \n",
      "_________________________________________________________________\n",
      "dropout_3 (Dropout)          (None, 50)                0         \n",
      "_________________________________________________________________\n",
      "dense (Dense)                (None, 1)                 51        \n",
      "=================================================================\n",
      "Total params: 71,051\n",
      "Trainable params: 71,051\n",
      "Non-trainable params: 0\n",
      "_________________________________________________________________\n"
     ]
    }
   ],
   "source": [
    "from tensorflow.keras.models import Sequential\n",
    "from tensorflow.keras.layers import Dense, LSTM, Dropout\n",
    "from tensorflow.keras.layers import *\n",
    "\n",
    "# Initializing the Recurrent Neural Network\n",
    "model = Sequential()\n",
    "#Adding the first LSTM layer with a sigmoid activation function and some Dropout regularization\n",
    "#Units - dimensionality of the output space\n",
    "\n",
    "model.add(LSTM(units = 50, return_sequences = True, input_shape = (X_train.shape[1], 1)))\n",
    "model.add(Dropout(0.2))\n",
    "\n",
    "model.add(LSTM(units = 50, return_sequences = True))\n",
    "model.add(Dropout(0.2))\n",
    "\n",
    "model.add(LSTM(units = 50, return_sequences = True))\n",
    "model.add(Dropout(0.2))\n",
    "\n",
    "model.add(LSTM(units = 50))\n",
    "model.add(Dropout(0.2))\n",
    "\n",
    "# Adding the output layer\n",
    "model.add(Dense(units = 1))\n",
    "model.summary()"
   ]
  },
  {
   "cell_type": "markdown",
   "metadata": {},
   "source": [
    "Optimizer Adaptive Moment Estimation (Adam) nearly always works faster and more reliably reaching a global minimum when minimising the cost function in training neural nets. We are trying to minimizes the mean squared error value as we fit the model."
   ]
  },
  {
   "attachments": {
    "1000_epochs.png": {
     "image/png": "[encoded data removed]"
    },
    "1000_epochs_MSE.png": {
     "image/png": "[encoded data removed]"
    },
    "1000_epochs_chart.png": {
     "image/png": "[encoded data removed]"
    }
   },
   "cell_type": "markdown",
   "metadata": {},
   "source": [
    "Larger epoch values with smaller batch size reduced the MSE error while fitting the model, but the MSE global value was higher. The images below show one of other attempts trying to get the best fit:\n",
    "\n",
    "![1000_epochs.png](attachment:1000_epochs.png)\n",
    "\n",
    "![1000_epochs_MSE.png](attachment:1000_epochs_MSE.png)\n",
    "\n",
    "![1000_epochs_chart.png](attachment:1000_epochs_chart.png)"
   ]
  },
  {
   "cell_type": "code",
   "execution_count": null,
   "metadata": {},
   "outputs": [
    {
     "name": "stdout",
     "output_type": "stream",
     "text": [
      "Epoch 1/500\n",
      "4/4 [==============================] - 8s 243ms/step - loss: 0.0466\n",
      "Epoch 2/500\n",
      "4/4 [==============================] - 1s 250ms/step - loss: 0.0163\n",
      "Epoch 3/500\n",
      "4/4 [==============================] - 1s 262ms/step - loss: 0.0163\n",
      "Epoch 4/500\n",
      "4/4 [==============================] - 1s 258ms/step - loss: 0.0129\n",
      "Epoch 5/500\n",
      "4/4 [==============================] - 1s 284ms/step - loss: 0.0119\n",
      "Epoch 6/500\n",
      "4/4 [==============================] - 1s 269ms/step - loss: 0.0105\n",
      "Epoch 7/500\n",
      "4/4 [==============================] - 1s 254ms/step - loss: 0.0099\n",
      "Epoch 8/500\n",
      "4/4 [==============================] - 1s 246ms/step - loss: 0.0092\n",
      "Epoch 9/500\n",
      "4/4 [==============================] - 1s 236ms/step - loss: 0.0083\n",
      "Epoch 10/500\n",
      "4/4 [==============================] - 1s 310ms/step - loss: 0.0083\n",
      "Epoch 11/500\n",
      "4/4 [==============================] - 2s 385ms/step - loss: 0.0073\n",
      "Epoch 12/500\n",
      "4/4 [==============================] - 1s 300ms/step - loss: 0.0070\n",
      "Epoch 13/500\n",
      "4/4 [==============================] - 1s 256ms/step - loss: 0.0062\n",
      "Epoch 14/500\n",
      "4/4 [==============================] - 1s 253ms/step - loss: 0.0058\n",
      "Epoch 15/500\n",
      "4/4 [==============================] - 1s 260ms/step - loss: 0.0059\n",
      "Epoch 16/500\n",
      "4/4 [==============================] - 1s 244ms/step - loss: 0.0055\n",
      "Epoch 17/500\n",
      "4/4 [==============================] - 1s 281ms/step - loss: 0.0053\n",
      "Epoch 18/500\n",
      "4/4 [==============================] - 1s 274ms/step - loss: 0.0047\n",
      "Epoch 19/500\n",
      "4/4 [==============================] - 1s 260ms/step - loss: 0.0050\n",
      "Epoch 20/500\n",
      "4/4 [==============================] - 1s 301ms/step - loss: 0.0050\n",
      "Epoch 21/500\n",
      "4/4 [==============================] - 1s 236ms/step - loss: 0.0045\n",
      "Epoch 22/500\n",
      "4/4 [==============================] - 1s 241ms/step - loss: 0.0042\n",
      "Epoch 23/500\n",
      "4/4 [==============================] - 1s 270ms/step - loss: 0.0042\n",
      "Epoch 24/500\n",
      "4/4 [==============================] - 1s 237ms/step - loss: 0.0040\n",
      "Epoch 25/500\n",
      "4/4 [==============================] - 1s 260ms/step - loss: 0.0041\n",
      "Epoch 26/500\n",
      "4/4 [==============================] - 1s 341ms/step - loss: 0.0040\n",
      "Epoch 27/500\n",
      "4/4 [==============================] - 2s 367ms/step - loss: 0.0040\n",
      "Epoch 28/500\n",
      "4/4 [==============================] - 2s 366ms/step - loss: 0.0039\n",
      "Epoch 29/500\n",
      "4/4 [==============================] - 1s 323ms/step - loss: 0.0037\n",
      "Epoch 30/500\n",
      "4/4 [==============================] - 1s 311ms/step - loss: 0.0036\n",
      "Epoch 31/500\n",
      "4/4 [==============================] - 1s 298ms/step - loss: 0.0036\n",
      "Epoch 32/500\n",
      "4/4 [==============================] - 1s 254ms/step - loss: 0.0036\n",
      "Epoch 33/500\n",
      "4/4 [==============================] - 1s 265ms/step - loss: 0.0034\n",
      "Epoch 34/500\n",
      "4/4 [==============================] - 1s 275ms/step - loss: 0.0037\n",
      "Epoch 35/500\n",
      "4/4 [==============================] - 1s 271ms/step - loss: 0.0037\n",
      "Epoch 36/500\n",
      "4/4 [==============================] - 1s 227ms/step - loss: 0.0035\n",
      "Epoch 37/500\n",
      "4/4 [==============================] - 1s 227ms/step - loss: 0.0038\n",
      "Epoch 38/500\n",
      "4/4 [==============================] - 1s 224ms/step - loss: 0.0038\n",
      "Epoch 39/500\n",
      "4/4 [==============================] - 1s 268ms/step - loss: 0.0040\n",
      "Epoch 40/500\n",
      "4/4 [==============================] - 1s 278ms/step - loss: 0.0040\n",
      "Epoch 41/500\n",
      "4/4 [==============================] - 1s 237ms/step - loss: 0.0035\n",
      "Epoch 42/500\n",
      "4/4 [==============================] - 1s 224ms/step - loss: 0.0039\n",
      "Epoch 43/500\n",
      "4/4 [==============================] - 1s 230ms/step - loss: 0.0036\n",
      "Epoch 44/500\n",
      "4/4 [==============================] - 1s 232ms/step - loss: 0.0035\n",
      "Epoch 45/500\n",
      "4/4 [==============================] - 1s 284ms/step - loss: 0.0034\n",
      "Epoch 46/500\n",
      "4/4 [==============================] - 1s 287ms/step - loss: 0.0030\n",
      "Epoch 47/500\n",
      "4/4 [==============================] - 1s 229ms/step - loss: 0.0035\n",
      "Epoch 48/500\n",
      "4/4 [==============================] - 1s 240ms/step - loss: 0.0035\n",
      "Epoch 49/500\n",
      "4/4 [==============================] - 1s 218ms/step - loss: 0.0031\n",
      "Epoch 50/500\n",
      "4/4 [==============================] - 1s 234ms/step - loss: 0.0033\n",
      "Epoch 51/500\n",
      "4/4 [==============================] - 1s 263ms/step - loss: 0.0033\n",
      "Epoch 52/500\n",
      "4/4 [==============================] - 1s 217ms/step - loss: 0.0035\n",
      "Epoch 53/500\n",
      "4/4 [==============================] - 1s 226ms/step - loss: 0.0031\n",
      "Epoch 54/500\n",
      "4/4 [==============================] - 1s 222ms/step - loss: 0.0033\n",
      "Epoch 55/500\n",
      "4/4 [==============================] - 1s 232ms/step - loss: 0.0032\n",
      "Epoch 56/500\n",
      "4/4 [==============================] - 1s 274ms/step - loss: 0.0032\n",
      "Epoch 57/500\n",
      "4/4 [==============================] - 1s 254ms/step - loss: 0.0033\n",
      "Epoch 58/500\n",
      "4/4 [==============================] - 1s 229ms/step - loss: 0.0035\n",
      "Epoch 59/500\n",
      "4/4 [==============================] - 1s 222ms/step - loss: 0.0031\n",
      "Epoch 60/500\n",
      "4/4 [==============================] - 1s 245ms/step - loss: 0.0032\n",
      "Epoch 61/500\n",
      "4/4 [==============================] - 1s 272ms/step - loss: 0.0034\n",
      "Epoch 62/500\n",
      "4/4 [==============================] - 1s 274ms/step - loss: 0.0032\n",
      "Epoch 63/500\n",
      "4/4 [==============================] - 1s 332ms/step - loss: 0.0031\n",
      "Epoch 64/500\n",
      "4/4 [==============================] - 1s 231ms/step - loss: 0.0029\n",
      "Epoch 65/500\n",
      "4/4 [==============================] - 1s 222ms/step - loss: 0.0031\n",
      "Epoch 66/500\n",
      "4/4 [==============================] - 1s 212ms/step - loss: 0.0031\n",
      "Epoch 67/500\n",
      "4/4 [==============================] - 1s 260ms/step - loss: 0.0033\n",
      "Epoch 68/500\n",
      "4/4 [==============================] - 1s 236ms/step - loss: 0.0032\n",
      "Epoch 69/500\n",
      "4/4 [==============================] - 1s 208ms/step - loss: 0.0035\n",
      "Epoch 70/500\n",
      "4/4 [==============================] - 1s 205ms/step - loss: 0.0032\n",
      "Epoch 71/500\n",
      "4/4 [==============================] - 1s 215ms/step - loss: 0.0034\n",
      "Epoch 72/500\n",
      "4/4 [==============================] - 1s 229ms/step - loss: 0.0032\n",
      "Epoch 73/500\n",
      "4/4 [==============================] - 1s 259ms/step - loss: 0.0033\n",
      "Epoch 74/500\n",
      "4/4 [==============================] - 1s 221ms/step - loss: 0.0031\n",
      "Epoch 75/500\n",
      "4/4 [==============================] - 1s 205ms/step - loss: 0.0030\n",
      "Epoch 76/500\n",
      "4/4 [==============================] - 1s 244ms/step - loss: 0.0031\n",
      "Epoch 77/500\n",
      "4/4 [==============================] - 1s 235ms/step - loss: 0.0030\n",
      "Epoch 78/500\n",
      "4/4 [==============================] - 1s 262ms/step - loss: 0.0032\n",
      "Epoch 79/500\n",
      "4/4 [==============================] - 1s 262ms/step - loss: 0.0031\n",
      "Epoch 80/500\n",
      "4/4 [==============================] - 1s 219ms/step - loss: 0.0031\n",
      "Epoch 81/500\n",
      "4/4 [==============================] - 1s 210ms/step - loss: 0.0028\n",
      "Epoch 82/500\n",
      "4/4 [==============================] - 1s 219ms/step - loss: 0.0030\n",
      "Epoch 83/500\n",
      "4/4 [==============================] - 1s 221ms/step - loss: 0.0030\n",
      "Epoch 84/500\n",
      "4/4 [==============================] - 1s 248ms/step - loss: 0.0028\n",
      "Epoch 85/500\n",
      "4/4 [==============================] - 1s 248ms/step - loss: 0.0030\n",
      "Epoch 86/500\n",
      "4/4 [==============================] - 1s 226ms/step - loss: 0.0031\n",
      "Epoch 87/500\n",
      "4/4 [==============================] - 1s 204ms/step - loss: 0.0029\n",
      "Epoch 88/500\n",
      "4/4 [==============================] - 1s 217ms/step - loss: 0.0030\n",
      "Epoch 89/500\n",
      "4/4 [==============================] - 1s 235ms/step - loss: 0.0027\n",
      "Epoch 90/500\n",
      "4/4 [==============================] - 1s 259ms/step - loss: 0.0033\n",
      "Epoch 91/500\n",
      "4/4 [==============================] - 1s 231ms/step - loss: 0.0030\n",
      "Epoch 92/500\n",
      "4/4 [==============================] - 1s 238ms/step - loss: 0.0029\n",
      "Epoch 93/500\n",
      "4/4 [==============================] - 1s 277ms/step - loss: 0.0031\n",
      "Epoch 94/500\n",
      "4/4 [==============================] - 1s 266ms/step - loss: 0.0029\n",
      "Epoch 95/500\n",
      "4/4 [==============================] - 1s 278ms/step - loss: 0.0030\n",
      "Epoch 96/500\n",
      "4/4 [==============================] - 1s 249ms/step - loss: 0.0030\n",
      "Epoch 97/500\n",
      "4/4 [==============================] - 1s 234ms/step - loss: 0.0029\n",
      "Epoch 98/500\n",
      "4/4 [==============================] - 1s 351ms/step - loss: 0.0028\n",
      "Epoch 99/500\n",
      "4/4 [==============================] - 2s 348ms/step - loss: 0.0029\n",
      "Epoch 100/500\n",
      "4/4 [==============================] - 1s 288ms/step - loss: 0.0027\n",
      "Epoch 101/500\n",
      "4/4 [==============================] - 1s 313ms/step - loss: 0.0029\n",
      "Epoch 102/500\n"
     ]
    },
    {
     "name": "stdout",
     "output_type": "stream",
     "text": [
      "4/4 [==============================] - 1s 254ms/step - loss: 0.0029\n",
      "Epoch 103/500\n",
      "4/4 [==============================] - 1s 217ms/step - loss: 0.0030\n",
      "Epoch 104/500\n",
      "4/4 [==============================] - 1s 297ms/step - loss: 0.0029\n",
      "Epoch 105/500\n",
      "4/4 [==============================] - 1s 289ms/step - loss: 0.0031\n",
      "Epoch 106/500\n",
      "4/4 [==============================] - 1s 276ms/step - loss: 0.0029\n",
      "Epoch 107/500\n",
      "4/4 [==============================] - 1s 267ms/step - loss: 0.0030\n",
      "Epoch 108/500\n",
      "4/4 [==============================] - 1s 230ms/step - loss: 0.0029\n",
      "Epoch 109/500\n",
      "4/4 [==============================] - 1s 212ms/step - loss: 0.0028\n",
      "Epoch 110/500\n",
      "4/4 [==============================] - 1s 260ms/step - loss: 0.0029\n",
      "Epoch 111/500\n",
      "4/4 [==============================] - 1s 238ms/step - loss: 0.0028\n",
      "Epoch 112/500\n",
      "4/4 [==============================] - 1s 239ms/step - loss: 0.0026\n",
      "Epoch 113/500\n",
      "4/4 [==============================] - 1s 229ms/step - loss: 0.0028\n",
      "Epoch 114/500\n",
      "4/4 [==============================] - 1s 240ms/step - loss: 0.0028\n",
      "Epoch 115/500\n",
      "4/4 [==============================] - 1s 253ms/step - loss: 0.0027\n",
      "Epoch 116/500\n",
      "4/4 [==============================] - 1s 268ms/step - loss: 0.0028\n",
      "Epoch 117/500\n",
      "4/4 [==============================] - 1s 246ms/step - loss: 0.0026\n",
      "Epoch 118/500\n",
      "4/4 [==============================] - 1s 255ms/step - loss: 0.0029\n",
      "Epoch 119/500\n",
      "4/4 [==============================] - 1s 300ms/step - loss: 0.0028\n",
      "Epoch 120/500\n",
      "4/4 [==============================] - 1s 244ms/step - loss: 0.0028\n",
      "Epoch 121/500\n",
      "4/4 [==============================] - 1s 286ms/step - loss: 0.0028\n",
      "Epoch 122/500\n",
      "4/4 [==============================] - 1s 278ms/step - loss: 0.0029\n",
      "Epoch 123/500\n",
      "4/4 [==============================] - 1s 277ms/step - loss: 0.0031\n",
      "Epoch 124/500\n",
      "4/4 [==============================] - 1s 257ms/step - loss: 0.0029\n",
      "Epoch 125/500\n",
      "4/4 [==============================] - 1s 253ms/step - loss: 0.0027\n",
      "Epoch 126/500\n",
      "4/4 [==============================] - 1s 291ms/step - loss: 0.0029\n",
      "Epoch 127/500\n",
      "4/4 [==============================] - 1s 306ms/step - loss: 0.0030\n",
      "Epoch 128/500\n",
      "4/4 [==============================] - 1s 245ms/step - loss: 0.0027\n",
      "Epoch 129/500\n",
      "4/4 [==============================] - 1s 246ms/step - loss: 0.0028\n",
      "Epoch 130/500\n",
      "4/4 [==============================] - 1s 231ms/step - loss: 0.0030\n",
      "Epoch 131/500\n",
      "4/4 [==============================] - 1s 219ms/step - loss: 0.0028\n",
      "Epoch 132/500\n",
      "4/4 [==============================] - 1s 265ms/step - loss: 0.0027\n",
      "Epoch 133/500\n",
      "4/4 [==============================] - 1s 250ms/step - loss: 0.0028\n",
      "Epoch 134/500\n",
      "4/4 [==============================] - 1s 255ms/step - loss: 0.0026\n",
      "Epoch 135/500\n",
      "4/4 [==============================] - 1s 241ms/step - loss: 0.0025\n",
      "Epoch 136/500\n",
      "4/4 [==============================] - 1s 231ms/step - loss: 0.0029\n",
      "Epoch 137/500\n",
      "4/4 [==============================] - 1s 236ms/step - loss: 0.0027\n",
      "Epoch 138/500\n",
      "4/4 [==============================] - 1s 270ms/step - loss: 0.0026\n",
      "Epoch 139/500\n",
      "4/4 [==============================] - 1s 250ms/step - loss: 0.0027\n",
      "Epoch 140/500\n",
      "4/4 [==============================] - 1s 263ms/step - loss: 0.0027\n",
      "Epoch 141/500\n",
      "4/4 [==============================] - 1s 279ms/step - loss: 0.0027\n",
      "Epoch 142/500\n",
      "4/4 [==============================] - 1s 278ms/step - loss: 0.0028\n",
      "Epoch 143/500\n",
      "4/4 [==============================] - 1s 285ms/step - loss: 0.0030\n",
      "Epoch 144/500\n",
      "4/4 [==============================] - 1s 241ms/step - loss: 0.0028\n",
      "Epoch 145/500\n",
      "4/4 [==============================] - 1s 229ms/step - loss: 0.0024\n",
      "Epoch 146/500\n",
      "4/4 [==============================] - 1s 246ms/step - loss: 0.0026\n",
      "Epoch 147/500\n",
      "4/4 [==============================] - 1s 240ms/step - loss: 0.0026\n",
      "Epoch 148/500\n",
      "4/4 [==============================] - 1s 299ms/step - loss: 0.0027\n",
      "Epoch 149/500\n",
      "4/4 [==============================] - 1s 303ms/step - loss: 0.0024\n",
      "Epoch 150/500\n",
      "4/4 [==============================] - 1s 263ms/step - loss: 0.0027\n",
      "Epoch 151/500\n",
      "4/4 [==============================] - 1s 279ms/step - loss: 0.0028\n",
      "Epoch 152/500\n",
      "4/4 [==============================] - 1s 255ms/step - loss: 0.0027\n",
      "Epoch 153/500\n",
      "4/4 [==============================] - 1s 297ms/step - loss: 0.0029\n",
      "Epoch 154/500\n",
      "4/4 [==============================] - 1s 233ms/step - loss: 0.0026\n",
      "Epoch 155/500\n",
      "4/4 [==============================] - 1s 230ms/step - loss: 0.0028\n",
      "Epoch 156/500\n",
      "4/4 [==============================] - 1s 233ms/step - loss: 0.0029\n",
      "Epoch 157/500\n",
      "4/4 [==============================] - 1s 250ms/step - loss: 0.0029\n",
      "Epoch 158/500\n",
      "4/4 [==============================] - 1s 239ms/step - loss: 0.0027\n",
      "Epoch 159/500\n",
      "4/4 [==============================] - 1s 225ms/step - loss: 0.0025\n",
      "Epoch 160/500\n",
      "4/4 [==============================] - 1s 218ms/step - loss: 0.0027\n",
      "Epoch 161/500\n",
      "4/4 [==============================] - 1s 224ms/step - loss: 0.0029\n",
      "Epoch 162/500\n",
      "4/4 [==============================] - 1s 234ms/step - loss: 0.0029\n",
      "Epoch 163/500\n",
      "4/4 [==============================] - 1s 263ms/step - loss: 0.0028\n",
      "Epoch 164/500\n",
      "4/4 [==============================] - 1s 258ms/step - loss: 0.0026\n",
      "Epoch 165/500\n",
      "4/4 [==============================] - 1s 250ms/step - loss: 0.0027\n",
      "Epoch 166/500\n",
      "4/4 [==============================] - 1s 273ms/step - loss: 0.0027\n",
      "Epoch 167/500\n",
      "4/4 [==============================] - 1s 220ms/step - loss: 0.0025\n",
      "Epoch 168/500\n",
      "4/4 [==============================] - 1s 236ms/step - loss: 0.0025\n",
      "Epoch 169/500\n",
      "4/4 [==============================] - 1s 216ms/step - loss: 0.0028\n",
      "Epoch 170/500\n",
      "4/4 [==============================] - 1s 244ms/step - loss: 0.0025\n",
      "Epoch 171/500\n",
      "4/4 [==============================] - 1s 247ms/step - loss: 0.0026\n",
      "Epoch 172/500\n",
      "4/4 [==============================] - 1s 298ms/step - loss: 0.0028\n",
      "Epoch 173/500\n",
      "4/4 [==============================] - 1s 311ms/step - loss: 0.0024\n",
      "Epoch 174/500\n"
     ]
    }
   ],
   "source": [
    "model.compile(optimizer = 'adam', loss = 'mse')\n",
    "model.fit(X_train, y_train, epochs = 500, batch_size = 512);"
   ]
  },
  {
   "cell_type": "markdown",
   "metadata": {},
   "source": [
    "## Prediction"
   ]
  },
  {
   "cell_type": "code",
   "execution_count": null,
   "metadata": {},
   "outputs": [],
   "source": [
    "df_volume = np.vstack((train, test))\n",
    "\n",
    "inputs = df_volume[df_volume.shape[0] - test.shape[0] - window:]\n",
    "inputs = inputs.reshape(-1,1)\n",
    "inputs = sc.transform(inputs)\n",
    "\n",
    "num_2 = df_volume.shape[0] - num_records + window\n",
    "\n",
    "X_test = []\n",
    "\n",
    "for i in range(window, num_2):\n",
    "    X_test_ = np.reshape(inputs[i-window:i, 0], (window, 1))\n",
    "    X_test.append(X_test_)\n",
    "    \n",
    "X_test = np.stack(X_test)"
   ]
  },
  {
   "cell_type": "code",
   "execution_count": null,
   "metadata": {},
   "outputs": [],
   "source": [
    "predict = model.predict(X_test)\n",
    "predict = sc.inverse_transform(predict)\n",
    "len(predict)"
   ]
  },
  {
   "cell_type": "code",
   "execution_count": null,
   "metadata": {
    "scrolled": true
   },
   "outputs": [],
   "source": [
    "diff = predict - test\n",
    "\n",
    "print(\"MSE:\", np.mean(diff**2))\n",
    "print(\"MAE:\", np.mean(abs(diff)))\n",
    "print(\"RMSE:\", np.sqrt(np.mean(diff**2)))"
   ]
  },
  {
   "cell_type": "markdown",
   "metadata": {},
   "source": [
    "The MSE result has been minimized enough to proceed with the prediction."
   ]
  },
  {
   "cell_type": "code",
   "execution_count": null,
   "metadata": {
    "scrolled": true
   },
   "outputs": [],
   "source": [
    "plt.figure(figsize=(20,7))\n",
    "plt.plot(df['Date'].values[num_records:], df_volume[num_records:], color = 'red', label = 'Real price')\n",
    "plt.plot(df['Date'][-predict.shape[0]:].values, predict, color = 'blue', label = 'Predicted price')\n",
    "# plt.xticks(np.arange(0,df[1800:].shape[0],25), rotation=45)\n",
    "plt.title('Green Chillies Price Prediction')\n",
    "plt.xlabel('Date')\n",
    "plt.ylabel('Price (€)')\n",
    "plt.legend()\n",
    "plt.show()"
   ]
  },
  {
   "cell_type": "markdown",
   "metadata": {},
   "source": [
    "The predicted prices are close to the real prices. They could be over fitted as the prediction line fits the real line almost perfectly."
   ]
  },
  {
   "cell_type": "markdown",
   "metadata": {},
   "source": [
    "## 30-day prediction"
   ]
  },
  {
   "cell_type": "code",
   "execution_count": null,
   "metadata": {},
   "outputs": [],
   "source": [
    "pred_ = predict[-1].copy()\n",
    "prediction_full = []\n",
    "window = 30\n",
    "df_copy = df.iloc[:, 1:2][1:].values\n",
    "\n",
    "for j in range(30):\n",
    "    df_ = np.vstack((df_copy, pred_))\n",
    "    train_ = df_[:num_records]\n",
    "    test_ = df_[num_records:]\n",
    "    \n",
    "    df_volume_ = np.vstack((train_, test_))\n",
    "\n",
    "    inputs_ = df_volume_[df_volume_.shape[0] - test_.shape[0] - window:]\n",
    "    inputs_ = inputs_.reshape(-1,1)\n",
    "    inputs_ = sc.transform(inputs_)\n",
    "\n",
    "    X_test_2 = []\n",
    "\n",
    "    for k in range(window, num_2):\n",
    "        X_test_3 = np.reshape(inputs_[k-window:k, 0], (window, 1))\n",
    "        X_test_2.append(X_test_3)\n",
    "\n",
    "    X_test_ = np.stack(X_test_2)\n",
    "    predict_ = model.predict(X_test_)\n",
    "    pred_ = sc.inverse_transform(predict_)\n",
    "    prediction_full.append(pred_[-1][0])\n",
    "    df_copy = df_[j:]\n",
    "\n",
    "len(prediction_full)"
   ]
  },
  {
   "cell_type": "code",
   "execution_count": null,
   "metadata": {},
   "outputs": [],
   "source": [
    "prediction_full_new = np.vstack((predict, np.array(prediction_full).reshape(-1,1)))\n",
    "\n",
    "len(prediction_full_new)"
   ]
  },
  {
   "cell_type": "code",
   "execution_count": null,
   "metadata": {},
   "outputs": [],
   "source": [
    "df_date = df[['Date']]\n",
    "\n",
    "for h in range(30):\n",
    "    df_date_add = pd.to_datetime(df_date['Date'].iloc[-1]) + pd.DateOffset(days=1)\n",
    "    df_date_add = pd.DataFrame([df_date_add], columns=['Date'])\n",
    "    df_date = df_date.append(df_date_add)\n",
    "df_date = df_date.reset_index(drop=True)\n",
    "len(df_date)"
   ]
  },
  {
   "cell_type": "code",
   "execution_count": null,
   "metadata": {},
   "outputs": [],
   "source": [
    "plt.figure(figsize=(20,7))\n",
    "plt.plot(df['Date'].values[num_records:], df_volume[num_records:], color = 'red', label = 'Real Price')\n",
    "plt.plot(df_date['Date'][-prediction_full_new.shape[0]:].values, prediction_full_new, color = 'blue', label = 'Predicted Price')\n",
    "# plt.xticks(np.arange(0,df_date[1800:].shape[0],25), rotation=45)\n",
    "plt.title('Price Prediction')\n",
    "plt.xlabel('Date')\n",
    "plt.ylabel('Price (€)')\n",
    "plt.legend()\n",
    "plt.show()"
   ]
  },
  {
   "cell_type": "markdown",
   "metadata": {},
   "source": [
    "The first days predictions show a sudden drop in prices that may be too deep and fast, followed by a also fast and quick increase. The model seems to be too responsive."
   ]
  },
  {
   "cell_type": "markdown",
   "metadata": {},
   "source": [
    "## GRU (Gated Recurrent Units)"
   ]
  },
  {
   "cell_type": "code",
   "execution_count": null,
   "metadata": {},
   "outputs": [],
   "source": [
    "# The GRU architecture\n",
    "modelGRU = Sequential()\n",
    "\n",
    "modelGRU.add(GRU(units=50, return_sequences=True, input_shape=(X_train.shape[1],1)))\n",
    "modelGRU.add(Dropout(0.2))\n",
    "\n",
    "modelGRU.add(GRU(units=50, return_sequences=True, input_shape=(X_train.shape[1],1)))\n",
    "modelGRU.add(Dropout(0.2))\n",
    "\n",
    "modelGRU.add(GRU(units=50, return_sequences=True, input_shape=(X_train.shape[1],1)))\n",
    "modelGRU.add(Dropout(0.2))\n",
    "\n",
    "modelGRU.add(GRU(units=50))\n",
    "modelGRU.add(Dropout(0.2))\n",
    "\n",
    "modelGRU.add(Dense(units=1))\n",
    "modelGRU.summary()"
   ]
  },
  {
   "cell_type": "code",
   "execution_count": null,
   "metadata": {},
   "outputs": [],
   "source": [
    "modelGRU.compile(optimizer='adam', loss='mse')\n",
    "modelGRU.fit(X_train, y_train, epochs=1000, batch_size=64)"
   ]
  },
  {
   "cell_type": "code",
   "execution_count": null,
   "metadata": {},
   "outputs": [],
   "source": [
    "predict = modelGRU.predict(X_test)\n",
    "predict = sc.inverse_transform(predict)"
   ]
  },
  {
   "cell_type": "code",
   "execution_count": null,
   "metadata": {},
   "outputs": [],
   "source": [
    "diff = predict - test\n",
    "\n",
    "print(\"MSE:\", np.mean(diff**2))\n",
    "print(\"MAE:\", np.mean(abs(diff)))\n",
    "print(\"RMSE:\", np.sqrt(np.mean(diff**2)))"
   ]
  },
  {
   "cell_type": "markdown",
   "metadata": {},
   "source": [
    "The MSE result has been minimized enough to proceed with the prediction."
   ]
  },
  {
   "cell_type": "code",
   "execution_count": null,
   "metadata": {},
   "outputs": [],
   "source": [
    "plt.figure(figsize=(20,7))\n",
    "plt.plot(df['Date'].values[num_records:], df_volume[num_records:], color = 'red', label = 'Real Price')\n",
    "plt.plot(df['Date'][-predict.shape[0]:].values, predict, color = 'blue', label = 'Predicted Price')\n",
    "# plt.xticks(np.arange(0,df[num_records:].shape[0],25), rotation=45)\n",
    "plt.title('Price Prediction')\n",
    "plt.xlabel('Date')\n",
    "plt.ylabel('Price (€)')\n",
    "plt.legend()\n",
    "plt.show()"
   ]
  },
  {
   "cell_type": "markdown",
   "metadata": {},
   "source": [
    "## 30-day prediction"
   ]
  },
  {
   "cell_type": "code",
   "execution_count": null,
   "metadata": {},
   "outputs": [],
   "source": [
    "pred_ = predict[-1].copy()\n",
    "prediction_full = []\n",
    "window = 30\n",
    "df_copy = df.iloc[:, 1:2][1:].values\n",
    "\n",
    "for j in range(30):\n",
    "    df_ = np.vstack((df_copy, pred_))\n",
    "    train_ = df_[:num_records]\n",
    "    test_ = df_[num_records:]\n",
    "    \n",
    "    df_volume_ = np.vstack((train_, test_))\n",
    "\n",
    "    inputs_ = df_volume_[df_volume_.shape[0] - test_.shape[0] - window:]\n",
    "    inputs_ = inputs_.reshape(-1,1)\n",
    "    inputs_ = sc.transform(inputs_)\n",
    "\n",
    "    X_test_2 = []\n",
    "\n",
    "    for k in range(window, num_2):\n",
    "        X_test_3 = np.reshape(inputs_[k-window:k, 0], (window, 1))\n",
    "        X_test_2.append(X_test_3)\n",
    "\n",
    "    X_test_ = np.stack(X_test_2)\n",
    "    predict_ = modelGRU.predict(X_test_)\n",
    "    pred_ = sc.inverse_transform(predict_)\n",
    "    prediction_full.append(pred_[-1][0])\n",
    "    df_copy = df_[j:]"
   ]
  },
  {
   "cell_type": "code",
   "execution_count": null,
   "metadata": {},
   "outputs": [],
   "source": [
    "prediction_full_new = np.vstack((predict, np.array(prediction_full).reshape(-1,1)))\n",
    "\n",
    "df_date = df[['Date']]\n",
    "\n",
    "for h in range(30):\n",
    "    kk = pd.to_datetime(df_date['Date'].iloc[-1]) + pd.DateOffset(days=1)\n",
    "    kk = pd.DataFrame([kk], columns=['Date'])\n",
    "    df_date = df_date.append(kk)\n",
    "df_date = df_date.reset_index(drop=True)"
   ]
  },
  {
   "cell_type": "code",
   "execution_count": null,
   "metadata": {
    "scrolled": true
   },
   "outputs": [],
   "source": [
    "plt.figure(figsize=(20,7))\n",
    "plt.plot(df['Date'].values[num_records:], df_volume[num_records:], color = 'red', label = 'Real Price')\n",
    "plt.plot(df_date['Date'][-prediction_full_new.shape[0]:].values, prediction_full_new, color = 'blue', label = 'Predicted Price')\n",
    "# plt.xticks(np.arange(0,df_date[1800:].shape[0],25), rotation=45)\n",
    "plt.title('Price Prediction')\n",
    "plt.xlabel('Date')\n",
    "plt.ylabel('Price (€)')\n",
    "plt.legend()\n",
    "plt.show()"
   ]
  },
  {
   "cell_type": "markdown",
   "metadata": {},
   "source": [
    "The first days predictions show a sudden drop in prices that may be too deep and fast, followed by a also fast and quick increase. The model seems to be too responsive, as did the previous one."
   ]
  }
 ],
 "metadata": {
  "kernelspec": {
   "display_name": "Python 3",
   "language": "python",
   "name": "python3"
  },
  "language_info": {
   "codemirror_mode": {
    "name": "ipython",
    "version": 3
   },
   "file_extension": ".py",
   "mimetype": "text/x-python",
   "name": "python",
   "nbconvert_exporter": "python",
   "pygments_lexer": "ipython3",
   "version": "3.7.6"
  }
 },
 "nbformat": 4,
 "nbformat_minor": 4
}
